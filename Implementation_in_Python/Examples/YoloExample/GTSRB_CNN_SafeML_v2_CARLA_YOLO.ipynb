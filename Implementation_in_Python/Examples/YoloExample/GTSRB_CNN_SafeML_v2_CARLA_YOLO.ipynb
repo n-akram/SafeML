{
 "cells": [
  {
   "cell_type": "markdown",
   "metadata": {},
   "source": [
    "# SafeML Implementation for German Traffic Sign Recognition\n",
    "In this example, we try to show how SafeML approach can be used for German Traffic Sign Recognition.We have used an existing code from the following URL that do the traffic sign classification using Convolutional Neural Networks (CNNs) with about 97% accuracy. Then the SafeML part is added to show how the safety of the approach can be monitored:\n",
    "\n",
    "Source: https://www.kaggle.com/lalithmovva/99-accuracy-on-german-traffic-sign-recognition\n",
    "\n",
    "Here is the table of content:\n",
    "* Defining the required libraries and loading the german traffic sgin recognition dataset.\n",
    "* Separating Train, Test and Validation Data\n",
    "* Defining the CNN model and its architecture.\n",
    "* Training the model and calculating its accuracy\n",
    "* Applying the model on test data\n",
    "* Comparing the true labels with predicted labels and using the statistical parametric mapping (as the SafeML method)"
   ]
  },
  {
   "cell_type": "markdown",
   "metadata": {},
   "source": [
    "## Defining the required libraries and loading the german traffic sgin recognition dataset.\n",
    "Before running the code, the dataset should be downloaded an stored on the local computer. Please make sure that the path has been chosen correctly. "
   ]
  },
  {
   "cell_type": "code",
   "execution_count": 1,
   "metadata": {},
   "outputs": [
    {
     "name": "stdout",
     "output_type": "stream",
     "text": [
      "GTSRB/GTSRB_Challenge/train/00000/\n",
      "GTSRB/GTSRB_Challenge/train/00001/\n",
      "GTSRB/GTSRB_Challenge/train/00002/\n",
      "GTSRB/GTSRB_Challenge/train/00003/\n",
      "GTSRB/GTSRB_Challenge/train/00004/\n",
      "GTSRB/GTSRB_Challenge/train/00005/\n",
      "GTSRB/GTSRB_Challenge/train/00006/\n",
      "GTSRB/GTSRB_Challenge/train/00007/\n",
      "GTSRB/GTSRB_Challenge/train/00008/\n",
      "GTSRB/GTSRB_Challenge/train/00009/\n",
      "GTSRB/GTSRB_Challenge/train/00010/\n",
      "GTSRB/GTSRB_Challenge/train/00011/\n",
      "GTSRB/GTSRB_Challenge/train/00012/\n",
      "GTSRB/GTSRB_Challenge/train/00013/\n",
      "GTSRB/GTSRB_Challenge/train/00014/\n",
      "GTSRB/GTSRB_Challenge/train/00015/\n",
      "GTSRB/GTSRB_Challenge/train/00016/\n",
      "GTSRB/GTSRB_Challenge/train/00017/\n",
      "GTSRB/GTSRB_Challenge/train/00018/\n",
      "GTSRB/GTSRB_Challenge/train/00019/\n",
      "GTSRB/GTSRB_Challenge/train/00020/\n",
      "GTSRB/GTSRB_Challenge/train/00021/\n",
      "GTSRB/GTSRB_Challenge/train/00022/\n",
      "GTSRB/GTSRB_Challenge/train/00023/\n",
      "GTSRB/GTSRB_Challenge/train/00024/\n",
      "GTSRB/GTSRB_Challenge/train/00025/\n",
      "GTSRB/GTSRB_Challenge/train/00026/\n",
      "GTSRB/GTSRB_Challenge/train/00027/\n",
      "GTSRB/GTSRB_Challenge/train/00028/\n",
      "GTSRB/GTSRB_Challenge/train/00029/\n",
      "GTSRB/GTSRB_Challenge/train/00030/\n",
      "GTSRB/GTSRB_Challenge/train/00031/\n",
      "GTSRB/GTSRB_Challenge/train/00032/\n",
      "GTSRB/GTSRB_Challenge/train/00033/\n",
      "GTSRB/GTSRB_Challenge/train/00034/\n",
      "GTSRB/GTSRB_Challenge/train/00035/\n",
      "GTSRB/GTSRB_Challenge/train/00036/\n",
      "GTSRB/GTSRB_Challenge/train/00037/\n",
      "GTSRB/GTSRB_Challenge/train/00038/\n",
      "GTSRB/GTSRB_Challenge/train/00039/\n",
      "GTSRB/GTSRB_Challenge/train/00040/\n",
      "GTSRB/GTSRB_Challenge/train/00041/\n",
      "GTSRB/GTSRB_Challenge/train/00042/\n",
      "End of block.\n"
     ]
    }
   ],
   "source": [
    "#Source: https://www.kaggle.com/lalithmovva/99-accuracy-on-german-traffic-sign-recognition\n",
    "# Libraries \n",
    "import numpy as np \n",
    "import pandas as pd \n",
    "import matplotlib.pyplot as plt\n",
    "import tensorflow as tf\n",
    "import cv2\n",
    "from PIL import Image\n",
    "import os\n",
    "\n",
    "# Reading the input images and putting them into a numpy array\n",
    "data=[]\n",
    "labels=[]\n",
    "\n",
    "height = 30\n",
    "width = 30\n",
    "channels = 3\n",
    "classes = 43\n",
    "n_inputs = height * width * channels\n",
    "\n",
    "for i in range(classes) :\n",
    "    #path = \"C:/cmder/Python_Tests/GTSRB/Train/{0}/\".format(i)\n",
    "    #path = \"C:\\\\AKRAM-Local\\\\temp\\\\GTSRB\\\\GTSRB_Challenge\\\\train\\\\{:05d}\\\\\".format(i)\n",
    "    path = \"GTSRB/GTSRB_Challenge/train/{:05d}/\".format(i)\n",
    "    print(path)\n",
    "    Class=os.listdir(path)\n",
    "    for a in Class:\n",
    "        try:\n",
    "            image=cv2.imread(path+a)\n",
    "            image_from_array = Image.fromarray(image, 'RGB')\n",
    "            size_image = image_from_array.resize((height, width))\n",
    "            data.append(np.array(size_image))\n",
    "            labels.append(i)\n",
    "        except AttributeError:\n",
    "            print(\" \")\n",
    "            \n",
    "Cells=np.array(data)\n",
    "labels=np.array(labels)\n",
    "\n",
    "#Randomize the order of the input images\n",
    "s=np.arange(Cells.shape[0])\n",
    "np.random.seed(43)\n",
    "np.random.shuffle(s)\n",
    "Cells=Cells[s]\n",
    "labels=labels[s]\n",
    "print(\"End of block.\")"
   ]
  },
  {
   "cell_type": "markdown",
   "metadata": {},
   "source": [
    "## Separating Train, Test and Validation Data\n",
    "In this section, 20% of data is separated for test and validation and the rest is used for training. This section can be improved using methods like K-fold cross-validation. We tried to make it as simple as possible."
   ]
  },
  {
   "cell_type": "code",
   "execution_count": 2,
   "metadata": {},
   "outputs": [
    {
     "name": "stdout",
     "output_type": "stream",
     "text": [
      "End of block.\n"
     ]
    }
   ],
   "source": [
    "#Spliting the images into train and validation sets\n",
    "(X_train,X_val)=Cells[(int)(0.2*len(labels)):],Cells[:(int)(0.2*len(labels))]\n",
    "X_train = X_train.astype('float32')/255 \n",
    "X_val = X_val.astype('float32')/255\n",
    "(y_train,y_val)=labels[(int)(0.2*len(labels)):],labels[:(int)(0.2*len(labels))]\n",
    "\n",
    "#Using one hot encoding for the train and validation labels\n",
    "from keras.utils import to_categorical\n",
    "\n",
    "y_train = to_categorical(y_train, 43)\n",
    "y_val = to_categorical(y_val, 43)\n",
    "print(\"End of block.\")"
   ]
  },
  {
   "cell_type": "markdown",
   "metadata": {},
   "source": [
    "## Defining the CNN model and its architecture\n",
    "Here the CNN model's structure is defined. Regarding the loss function the categorical crossentropy is used, and the ADAM is selection for the network optimization."
   ]
  },
  {
   "cell_type": "code",
   "execution_count": 3,
   "metadata": {},
   "outputs": [
    {
     "name": "stdout",
     "output_type": "stream",
     "text": [
      "End of block.\n"
     ]
    }
   ],
   "source": [
    "#Definition of the DNN model\n",
    "\n",
    "from keras.models import Sequential\n",
    "from keras.layers import Conv2D, MaxPool2D, Dense, Flatten, Dropout\n",
    "\n",
    "model = Sequential()\n",
    "model.add(Conv2D(filters=32, kernel_size=(5,5), activation='relu', input_shape=X_train.shape[1:]))\n",
    "model.add(Conv2D(filters=64, kernel_size=(3, 3), activation='relu'))\n",
    "model.add(MaxPool2D(pool_size=(2, 2)))\n",
    "model.add(Dropout(rate=0.25))\n",
    "model.add(Conv2D(filters=64, kernel_size=(3, 3), activation='relu'))\n",
    "model.add(MaxPool2D(pool_size=(2, 2)))\n",
    "model.add(Dropout(rate=0.25))\n",
    "model.add(Flatten())\n",
    "model.add(Dense(256, activation='relu'))\n",
    "model.add(Dropout(rate=0.5))\n",
    "model.add(Dense(43, activation='softmax'))\n",
    "\n",
    "#Compilation of the model\n",
    "model.compile(\n",
    "    loss='categorical_crossentropy', \n",
    "    optimizer='adam', \n",
    "    metrics=['accuracy']\n",
    ")\n",
    "print(\"End of block.\")"
   ]
  },
  {
   "cell_type": "markdown",
   "metadata": {},
   "source": [
    "## Training the Model and calculating its accuracy\n",
    "In this section, the CNN model is trained and the accuracy plot is shown. "
   ]
  },
  {
   "cell_type": "code",
   "execution_count": 4,
   "metadata": {},
   "outputs": [
    {
     "name": "stdout",
     "output_type": "stream",
     "text": [
      "Epoch 1/20\n",
      "981/981 [==============================] - 135s 138ms/step - loss: 1.4689 - accuracy: 0.5799 - val_loss: 0.3242 - val_accuracy: 0.9075\n",
      "Epoch 2/20\n",
      "981/981 [==============================] - 142s 145ms/step - loss: 0.4834 - accuracy: 0.8491 - val_loss: 0.1533 - val_accuracy: 0.9614\n",
      "Epoch 3/20\n",
      "981/981 [==============================] - 134s 137ms/step - loss: 0.3215 - accuracy: 0.9004 - val_loss: 0.1020 - val_accuracy: 0.9744\n",
      "Epoch 4/20\n",
      "981/981 [==============================] - 133s 135ms/step - loss: 0.2492 - accuracy: 0.9222 - val_loss: 0.0842 - val_accuracy: 0.9800\n",
      "Epoch 5/20\n",
      "981/981 [==============================] - 138s 141ms/step - loss: 0.2230 - accuracy: 0.9318 - val_loss: 0.0571 - val_accuracy: 0.9865\n",
      "Epoch 6/20\n",
      "981/981 [==============================] - 139s 141ms/step - loss: 0.2033 - accuracy: 0.9374 - val_loss: 0.0597 - val_accuracy: 0.9833\n",
      "Epoch 7/20\n",
      "981/981 [==============================] - 138s 141ms/step - loss: 0.2191 - accuracy: 0.9387 - val_loss: 0.0582 - val_accuracy: 0.9870\n",
      "Epoch 8/20\n",
      "981/981 [==============================] - 139s 142ms/step - loss: 0.1872 - accuracy: 0.9482 - val_loss: 0.0589 - val_accuracy: 0.9850\n",
      "Epoch 9/20\n",
      "981/981 [==============================] - 132s 135ms/step - loss: 0.1902 - accuracy: 0.9472 - val_loss: 0.0620 - val_accuracy: 0.9855\n",
      "Epoch 10/20\n",
      "981/981 [==============================] - 140s 142ms/step - loss: 0.1880 - accuracy: 0.9515 - val_loss: 0.0450 - val_accuracy: 0.9906\n",
      "Epoch 11/20\n",
      "981/981 [==============================] - 133s 136ms/step - loss: 0.1840 - accuracy: 0.9535 - val_loss: 0.0463 - val_accuracy: 0.9907\n",
      "Epoch 12/20\n",
      "981/981 [==============================] - 136s 139ms/step - loss: 0.1704 - accuracy: 0.9550 - val_loss: 0.0581 - val_accuracy: 0.9885\n",
      "Epoch 13/20\n",
      "981/981 [==============================] - 112s 114ms/step - loss: 0.1664 - accuracy: 0.9567 - val_loss: 0.0427 - val_accuracy: 0.9903\n",
      "Epoch 14/20\n",
      "981/981 [==============================] - 97s 99ms/step - loss: 0.1783 - accuracy: 0.9550 - val_loss: 0.0427 - val_accuracy: 0.9904\n",
      "Epoch 15/20\n",
      "981/981 [==============================] - 98s 100ms/step - loss: 0.1870 - accuracy: 0.9565 - val_loss: 0.0574 - val_accuracy: 0.9898\n",
      "Epoch 16/20\n",
      "981/981 [==============================] - 98s 100ms/step - loss: 0.1849 - accuracy: 0.9584 - val_loss: 0.0508 - val_accuracy: 0.9899\n",
      "Epoch 17/20\n",
      "981/981 [==============================] - 97s 99ms/step - loss: 0.1706 - accuracy: 0.9614 - val_loss: 0.0467 - val_accuracy: 0.9921\n",
      "Epoch 18/20\n",
      "981/981 [==============================] - 98s 100ms/step - loss: 0.1749 - accuracy: 0.9602 - val_loss: 0.0521 - val_accuracy: 0.9904\n",
      "Epoch 19/20\n",
      "981/981 [==============================] - 98s 99ms/step - loss: 0.1541 - accuracy: 0.9628 - val_loss: 0.0426 - val_accuracy: 0.9946\n",
      "Epoch 20/20\n",
      "981/981 [==============================] - 95s 97ms/step - loss: 0.1447 - accuracy: 0.9651 - val_loss: 0.0507 - val_accuracy: 0.9911\n",
      "End of block.\n"
     ]
    },
    {
     "data": {
      "image/png": "[encoded data removed]",
      "text/plain": [
       "<Figure size 432x288 with 1 Axes>"
      ]
     },
     "metadata": {
      "needs_background": "light"
     },
     "output_type": "display_data"
    },
    {
     "data": {
      "image/png": "[encoded data removed]",
      "text/plain": [
       "<Figure size 432x288 with 1 Axes>"
      ]
     },
     "metadata": {
      "needs_background": "light"
     },
     "output_type": "display_data"
    }
   ],
   "source": [
    "#using ten epochs for the training and saving the accuracy for each epoch\n",
    "epochs = 20\n",
    "history = model.fit(X_train, y_train, batch_size=32, epochs=epochs,\n",
    "validation_data=(X_val, y_val))\n",
    "\n",
    "#Display of the accuracy and the loss values\n",
    "import matplotlib.pyplot as plt\n",
    "\n",
    "plt.figure(0)\n",
    "plt.plot(history.history['accuracy'], label='training accuracy')\n",
    "plt.plot(history.history['val_accuracy'], label='val accuracy')\n",
    "plt.title('Accuracy')\n",
    "plt.xlabel('epochs')\n",
    "plt.ylabel('accuracy')\n",
    "plt.legend()\n",
    "\n",
    "plt.figure(1)\n",
    "plt.plot(history.history['loss'], label='training loss')\n",
    "plt.plot(history.history['val_loss'], label='val loss')\n",
    "plt.title('Loss')\n",
    "plt.xlabel('epochs')\n",
    "plt.ylabel('loss')\n",
    "plt.legend()\n",
    "print(\"End of block.\")"
   ]
  },
  {
   "cell_type": "markdown",
   "metadata": {},
   "source": [
    "## Applying the model on test data\n",
    "Having trained the CNN model, the test data is used. The predicted decisions has been stored as \"y_pred\". As can be seen the accuracy of the model is about 0.97%."
   ]
  },
  {
   "cell_type": "code",
   "execution_count": 5,
   "metadata": {},
   "outputs": [
    {
     "name": "stdout",
     "output_type": "stream",
     "text": [
      "WARNING:tensorflow:From <ipython-input-5-144ff2eb9255>:21: Sequential.predict_classes (from tensorflow.python.keras.engine.sequential) is deprecated and will be removed after 2021-01-01.\n",
      "Instructions for updating:\n",
      "Please use instead:* `np.argmax(model.predict(x), axis=-1)`,   if your model does multi-class classification   (e.g. if it uses a `softmax` last-layer activation).* `(model.predict(x) > 0.5).astype(\"int32\")`,   if your model does binary classification   (e.g. if it uses a `sigmoid` last-layer activation).\n",
      "[16  1 38 ... 32  7 10]\n",
      "End of block.\n"
     ]
    }
   ],
   "source": [
    "#Predicting with the test data\n",
    "#y_test=pd.read_csv(\"C:/cmder/Python_Tests/GTSRB/Test.csv\")\n",
    "#y_test=pd.read_csv(\"C:\\\\AKRAM-Local\\\\temp\\\\GTSRB\\\\GTSRB_Challenge\\\\Test.csv\")\n",
    "y_test=pd.read_csv(\"GTSRB/GTSRB_Challenge/Test.csv\")\n",
    "# labels=y_test['Path'].as_matrix()\n",
    "labels=y_test['Path'].to_numpy()\n",
    "y_test=y_test['ClassId'].values\n",
    "\n",
    "data=[]\n",
    "\n",
    "for f in labels:\n",
    "    #image=cv2.imread('C:/cmder/Python_Tests/GTSRB/Test/'+f.replace('Test/', ''))\n",
    "    #image=cv2.imread('C:\\\\AKRAM-Local\\\\temp\\\\GTSRB\\\\GTSRB_Challenge\\\\archive\\\\Test\\\\'+f.replace('Test/', ''))\n",
    "    image=cv2.imread('GTSRB/GTSRB_Challenge/archive/Test/'+f.replace('Test/', ''))\n",
    "    image_from_array = Image.fromarray(image, 'RGB')\n",
    "    size_image = image_from_array.resize((height, width))\n",
    "    data.append(np.array(size_image))\n",
    "\n",
    "X_test=np.array(data)\n",
    "X_test = X_test.astype('float32')/255 \n",
    "y_pred = model.predict_classes(X_test)\n",
    "\n",
    "#Accuracy with the test data\n",
    "from sklearn.metrics import accuracy_score\n",
    "\n",
    "print(y_pred)\n",
    "\n",
    "accuracy_score(y_test, y_pred)\n",
    "\n",
    "print(\"End of block.\")"
   ]
  },
  {
   "cell_type": "markdown",
   "metadata": {},
   "source": [
    "## Loading pre-trained YOLO network\n",
    "<p style='text-align: justify;'> \n",
    "We trained a YOLO network to detect vehicle in images, from a traffic camera view. We used CARLA for recording these images."
   ]
  },
  {
   "cell_type": "code",
   "execution_count": 1,
   "metadata": {},
   "outputs": [
    {
     "name": "stdout",
     "output_type": "stream",
     "text": [
      "Model Summary: 222 layers, 6.15237e+07 parameters, 6.15237e+07 gradients\n",
      "End of block.\n"
     ]
    }
   ],
   "source": [
    "import torch\n",
    "from models import *\n",
    "from utils.datasets_old import *\n",
    "from utils.utils_old import *\n",
    "from torch.utils.data import DataLoader\n",
    "\n",
    "\n",
    "DEVICE = torch.device('cuda' if torch.cuda.is_available() else 'cpu')\n",
    "\n",
    "#print(Darknet)\n",
    "\n",
    "YOLO_model = Darknet(\"cfg/IESE/yolov3-custom.cfg\", img_size=416).to(DEVICE)\n",
    "load_darknet_weights(YOLO_model, weights=\"weights/IESE/yolov3_ckpt_42.weights\")\n",
    "YOLO_model.eval()  # Set model in evaluation mode\n",
    "\n",
    "print(\"End of block.\")"
   ]
  },
  {
   "cell_type": "markdown",
   "metadata": {},
   "source": [
    "###  Loading the test images \n",
    "We test on the recorded dataset on CARLA."
   ]
  },
  {
   "cell_type": "code",
   "execution_count": 2,
   "metadata": {},
   "outputs": [
    {
     "name": "stdout",
     "output_type": "stream",
     "text": [
      "End of the block\n"
     ]
    }
   ],
   "source": [
    "import os\n",
    "import random\n",
    "\n",
    "img_size=416\n",
    "\n",
    "dataset_path = \"data/IESE_samples/IntersectionVehicle/imgs/\"\n",
    "dataset_labels = \"data/IESE_samples/IntersectionVehicle/labels/\"\n",
    "\n",
    "# Select random K sample\n",
    "K = 1\n",
    "samp = random.sample(os.listdir(dataset_path), K)\n",
    "labe = [os.path.splitext(n)[0]+\".txt\" for n in samp]\n",
    "#print(labe)\n",
    "\n",
    "#dataset = RMC_Seq_Dataset(base_folder='/home/tux/Desktop/Data')\n",
    "#dataloader = DataLoader(dataset, batch_size=1, shuffle=False, num_workers=1)\n",
    "\n",
    "print(\"End of the block\")\n"
   ]
  },
  {
   "cell_type": "markdown",
   "metadata": {},
   "source": [
    "###  YOLO prediction and comparison \n",
    "Use YOLO to predict the images and compare the result with ground truth."
   ]
  },
  {
   "cell_type": "code",
   "execution_count": 3,
   "metadata": {},
   "outputs": [
    {
     "name": "stdout",
     "output_type": "stream",
     "text": [
      "The avg. correctness is:  0.8\n"
     ]
    }
   ],
   "source": [
    "from PIL import Image\n",
    "from torch.autograd import Variable\n",
    "import torch.nn.functional as F\n",
    "from torchvision.transforms import ToTensor\n",
    "import numpy as np\n",
    "\n",
    "imgs = list()\n",
    "labes = []\n",
    "predictions = []\n",
    "\n",
    "def pad_to_square(img, pad_value):\n",
    "    c, h, w = img.shape\n",
    "    dim_diff = np.abs(h - w)\n",
    "    # (upper / left) padding and (lower / right) padding\n",
    "    pad1, pad2 = dim_diff // 2, dim_diff - dim_diff // 2\n",
    "    # Determine padding\n",
    "    pad = (0, 0, pad1, pad2) if h <= w else (pad1, pad2, 0, 0)\n",
    "    # Add padding\n",
    "    img = F.pad(img, pad, \"constant\", value=pad_value)\n",
    "    return img, pad\n",
    "\n",
    "def resize(image, size):\n",
    "    image = F.interpolate(image.unsqueeze(0), size=size, mode=\"nearest\").squeeze(0)\n",
    "    return image\n",
    "\n",
    "Tensor = torch.cuda.FloatTensor if torch.cuda.is_available() else torch.FloatTensor\n",
    "\n",
    "for im, l in zip(samp, labe):\n",
    "    img = Image.open(os.path.join(dataset_path, im)).convert('RGB')\n",
    "    #img.show()    \n",
    "    corr_raw = torch.from_numpy(np.loadtxt(fname=os.path.join(dataset_labels, l), delimiter=' ')[:, 1:])\n",
    "    corr = xywh2xyxy(corr_raw)#*416.0\n",
    "    corr[:, 0::2] *= 1320\n",
    "    corr[:, 1::2] *= 720\n",
    "    corr = np.insert(corr, 0, np.zeros(corr.shape[0]), axis=1)\n",
    "    corr = corr.to(DEVICE)\n",
    "    \n",
    "    img = transforms.ToTensor()(img)\n",
    "    img, _ = pad_to_square(img, 0)\n",
    "    img = resize(img, 416)\n",
    "    img = img.unsqueeze(0)\n",
    "    #img = img.reshape(-1)\n",
    "    #img = img.reshape(1,3,416,416)\n",
    "    \n",
    "    #print(img.shape, img.dtype)\n",
    "    img = Variable(img.to(DEVICE))\n",
    "\n",
    "    with torch.no_grad():\n",
    "        #inp = torch.zeros((1,3,416,416)).to(DEVICE)\n",
    "        \n",
    "        outputs = YOLO_model(img)\n",
    "        outputs = outputs[0]\n",
    "        outputs = non_max_suppression(outputs, conf_thres=0.8, nms_thres=0.4)[0]\n",
    "        preds = rescale_boxes(outputs, 416, (720,1320))\n",
    "        #print(preds.shape)\n",
    "\n",
    "        #preds_, corr_ = preds.unsqueeze(0).to(DEVICE), corr.unsqueeze(0).to(DEVICE)\n",
    "        #stats = get_batch_statistics(preds_, corr_, 0.1)\n",
    "        \n",
    "        #print(bbox_wh_iou(preds[0, :4], corr[0, 1:5]))\n",
    "        iou_threshold = 0.1\n",
    "        print('The avg. correctness is: ', avg_correctness_by_iou(preds[:, :4], corr[:, 1:5], iou_threshold))\n",
    "\n",
    "\n",
    "        \n",
    "    #print(preds, corr)\n",
    "    "
   ]
  },
  {
   "cell_type": "markdown",
   "metadata": {},
   "source": [
    "## Comparing the true labels with predicted labels and using the statistical parametric mapping (as the SafeML method)\n",
    "<p style='text-align: justify;'> \n",
    "The idea of SafeML is to measure statistical distances and estimate the accuracy of the model when there is no available labels. Having an accuracy estimation at run time can be so vital for safety-critical applications. In this section, the statistical difference is addressed and the accuracy estimation will be considered on our later versions. Here, we simply find the test data where y_test is not equal to the predicted one (y_pred) and name it as X_test_wrong, y_test_wrong. Then for example, for label == 2, we compare the trained data (trusted data) and the X_test_wrong (selecting only label 2 ones for instance). Then using statistical parametric mapping, we try to find the statistical explanation to see what was different that our CNN model made a wronge decision. This explanation can be investigated in different perspectives and we just provide a sample.</p>\n",
    "\n",
    "To find more about SafeML idea, please check our GitHub:\n",
    "\n",
    "https://github.com/ISorokos/SafeML"
   ]
  },
  {
   "cell_type": "code",
   "execution_count": 104,
   "metadata": {},
   "outputs": [
    {
     "ename": "ModuleNotFoundError",
     "evalue": "No module named 'spm1d'",
     "output_type": "error",
     "traceback": [
      "\u001b[0;31m---------------------------------------------------------------------------\u001b[0m",
      "\u001b[0;31mModuleNotFoundError\u001b[0m                       Traceback (most recent call last)",
      "\u001b[0;32m<ipython-input-104-ca0ad795a681>\u001b[0m in \u001b[0;36m<module>\u001b[0;34m\u001b[0m\n\u001b[1;32m      3\u001b[0m \u001b[0;32mimport\u001b[0m \u001b[0mos\u001b[0m\u001b[0;34m\u001b[0m\u001b[0;34m\u001b[0m\u001b[0m\n\u001b[1;32m      4\u001b[0m \u001b[0;32mfrom\u001b[0m \u001b[0mmatplotlib\u001b[0m \u001b[0;32mimport\u001b[0m \u001b[0mpyplot\u001b[0m\u001b[0;34m\u001b[0m\u001b[0;34m\u001b[0m\u001b[0m\n\u001b[0;32m----> 5\u001b[0;31m \u001b[0;32mimport\u001b[0m \u001b[0mspm1d\u001b[0m\u001b[0;34m\u001b[0m\u001b[0;34m\u001b[0m\u001b[0m\n\u001b[0m",
      "\u001b[0;31mModuleNotFoundError\u001b[0m: No module named 'spm1d'"
     ]
    }
   ],
   "source": [
    "# Addition: Working on CARLA\n",
    "\n",
    "import os\n",
    "from matplotlib import pyplot\n",
    "import spm1d"
   ]
  },
  {
   "cell_type": "code",
   "execution_count": 10,
   "metadata": {},
   "outputs": [
    {
     "name": "stdout",
     "output_type": "stream",
     "text": [
      "438\n",
      "End of block.\n"
     ]
    },
    {
     "data": {
      "image/png": "[encoded data removed]",
      "text/plain": [
       "<Figure size 1440x432 with 3 Axes>"
      ]
     },
     "metadata": {
      "needs_background": "light"
     },
     "output_type": "display_data"
    },
    {
     "data": {
      "image/png": "[encoded data removed]",
      "text/plain": [
       "<Figure size 1440x432 with 3 Axes>"
      ]
     },
     "metadata": {
      "needs_background": "light"
     },
     "output_type": "display_data"
    },
    {
     "data": {
      "image/png": "[encoded data removed]",
      "text/plain": [
       "<Figure size 1440x432 with 3 Axes>"
      ]
     },
     "metadata": {
      "needs_background": "light"
     },
     "output_type": "display_data"
    }
   ],
   "source": [
    "import os\n",
    "from matplotlib import pyplot\n",
    "import spm1d\n",
    "\n",
    "# Separating Wrong Responses of the CNN Classifier\n",
    "X_test_wrong, y_test_wrong = X_test[np.where(y_test != y_pred)], y_test[np.where(y_test != y_pred)]\n",
    "print(len(y_test_wrong))\n",
    "\n",
    "# print(X_test_wrong.shape)\n",
    "\n",
    "# Finding Wrong Decisions for Label 2 (just an example)\n",
    "X_test_wrong3, y_test_wrong3 = X_test_wrong[np.where(y_test_wrong == 3)], y_test_wrong[np.where(y_test_wrong == 3)]\n",
    "\n",
    "# print(X_test_wrong1.shape)\n",
    "\n",
    "X_train3 = X_train[np.where(y_train[:,3] == 1)]\n",
    "\n",
    "\n",
    "fig2, ax6 = pyplot.subplots(1,3, figsize = (20,6))\n",
    "\n",
    "for ii, c_ax in enumerate(ax6.flatten()):\n",
    "    # Comparing X_train for Label == 2 with X_Test_wronge for Label == 2\n",
    "    xxx, yyy= X_train3[:,:,:,ii], X_test_wrong3[:,:,:,ii]\n",
    "    xxx_2   = np.array([yy.flatten() for yy in xxx])\n",
    "    yyy_2   = np.array([yy.flatten() for yy in yyy]) \n",
    "    snpm    = spm1d.stats.nonparam.ttest2(xxx_2[:30], yyy_2[:30])\n",
    "    snpmi   = snpm.inference(0.05, two_tailed=True, iterations=1000) # Alpha is considered as 0.05\n",
    "    \n",
    "   # print(xxx_2.shape)\n",
    "    J,Q     = xxx_2.shape\n",
    "    z       = snpmi.z\n",
    "    zstar   = snpmi.zstar\n",
    "    z0      = np.zeros(Q)\n",
    "    z0      = z\n",
    "    Z0      = np.reshape(z0, (30,30))\n",
    "    Z0i     = Z0.copy()\n",
    "    Z0i[np.abs(Z0i)<zstar] = 0\n",
    "    ZZ      = np.hstack( [Z0, Z0i] )\n",
    "    \n",
    "    c_ax.imshow(Z0, 'jet') # Can be replaced with Z0i\n",
    "    c_ax.set_title('RGB: {} of Set {} vs. Set {}'.format(ii, 1,2))\n",
    "    c_ax.axis('off')\n",
    "\n",
    "fig3, ax7 = pyplot.subplots(1,3, figsize = (20,6))    \n",
    "\n",
    "for ii, c_ax in enumerate(ax7.flatten()):\n",
    "    c_ax.imshow(X_train3[1,:,:,ii], interpolation = 'none')\n",
    "    c_ax.set_title('RGB: {} -- Test {}'.format(ii+1, 3))\n",
    "    c_ax.axis(\"off\")\n",
    "    \n",
    "fig4, ax8 = pyplot.subplots(1,3, figsize = (20,6))     \n",
    "\n",
    "for ii, c_ax in enumerate(ax8.flatten()):\n",
    "    c_ax.imshow(X_test_wrong3[1,:,:,ii], interpolation = 'none')\n",
    "    c_ax.set_title('RGB: {} -- Test {}'.format(ii+1, y_test_wrong3[1]))\n",
    "    c_ax.axis('off')\n",
    "\n",
    "print(\"End of block.\")"
   ]
  },
  {
   "cell_type": "markdown",
   "metadata": {},
   "source": [
    "## LIME Practice\n",
    "Here is some draf codes and it should be ignored."
   ]
  },
  {
   "cell_type": "code",
   "execution_count": 11,
   "metadata": {},
   "outputs": [
    {
     "name": "stdout",
     "output_type": "stream",
     "text": [
      "Notebook running: keras  2.4.3\n",
      "End of block.\n"
     ]
    }
   ],
   "source": [
    "# %tensorflow_version 1.x\n",
    "import numpy as np\n",
    "import keras\n",
    "from keras.applications.imagenet_utils import decode_predictions\n",
    "import skimage.io \n",
    "import skimage.segmentation\n",
    "import copy\n",
    "import sklearn\n",
    "import sklearn.metrics\n",
    "from sklearn.linear_model import LinearRegression\n",
    "import warnings\n",
    "\n",
    "print('Notebook running: keras ', keras.__version__)\n",
    "np.random.seed(222)\n",
    "\n",
    "warnings.filterwarnings('ignore')\n",
    "\n",
    "print(\"End of block.\")"
   ]
  },
  {
   "cell_type": "code",
   "execution_count": 12,
   "metadata": {},
   "outputs": [
    {
     "name": "stdout",
     "output_type": "stream",
     "text": [
      "End of block.\n"
     ]
    },
    {
     "data": {
      "image/png": "[encoded data removed]",
      "text/plain": [
       "<Figure size 432x288 with 1 Axes>"
      ]
     },
     "metadata": {
      "needs_background": "light"
     },
     "output_type": "display_data"
    }
   ],
   "source": [
    "skimage.io.imshow(X_test_wrong3[0]/2+0.5) # Show image before inception preprocessing\n",
    "\n",
    "print(\"End of block.\")"
   ]
  },
  {
   "cell_type": "code",
   "execution_count": 13,
   "metadata": {},
   "outputs": [
    {
     "name": "stdout",
     "output_type": "stream",
     "text": [
      "End of block.\n"
     ]
    },
    {
     "data": {
      "image/png": "[encoded data removed]",
      "text/plain": [
       "<Figure size 432x288 with 1 Axes>"
      ]
     },
     "metadata": {
      "needs_background": "light"
     },
     "output_type": "display_data"
    }
   ],
   "source": [
    "Xi = X_test_wrong3[0]\n",
    "Xi[np.newaxis,:,:,:]\n",
    "\n",
    "skimage.io.imshow(Xi/2+0.5)\n",
    "\n",
    "print(\"End of block.\")"
   ]
  },
  {
   "cell_type": "code",
   "execution_count": 14,
   "metadata": {},
   "outputs": [
    {
     "name": "stdout",
     "output_type": "stream",
     "text": [
      "[5]\n",
      "End of block.\n"
     ]
    },
    {
     "data": {
      "image/png": "[encoded data removed]",
      "text/plain": [
       "<Figure size 432x288 with 1 Axes>"
      ]
     },
     "metadata": {
      "needs_background": "light"
     },
     "output_type": "display_data"
    }
   ],
   "source": [
    "np.random.seed(222)\n",
    "\n",
    "preds = model.predict_classes(Xi[np.newaxis,:,:,:])\n",
    "print(preds)\n",
    "\n",
    "skimage.io.imshow(X_train[5]/2+0.5)\n",
    "\n",
    "print(\"End of block.\")"
   ]
  },
  {
   "cell_type": "code",
   "execution_count": 15,
   "metadata": {},
   "outputs": [
    {
     "name": "stdout",
     "output_type": "stream",
     "text": [
      "End of block.\n"
     ]
    }
   ],
   "source": [
    "#top_pred_classes = preds[0].argsort()[-5:][::-1]\n",
    "#top_pred_classes                #Index of top 5 classes\n",
    "top_pred_classes = preds[0]\n",
    "\n",
    "print(\"End of block.\")"
   ]
  },
  {
   "cell_type": "code",
   "execution_count": 16,
   "metadata": {},
   "outputs": [
    {
     "name": "stdout",
     "output_type": "stream",
     "text": [
      "7\n",
      "End of block.\n"
     ]
    },
    {
     "data": {
      "image/png": "[encoded data removed]",
      "text/plain": [
       "<Figure size 432x288 with 1 Axes>"
      ]
     },
     "metadata": {
      "needs_background": "light"
     },
     "output_type": "display_data"
    }
   ],
   "source": [
    "Xi = Xi.astype('double') \n",
    "superpixels = skimage.segmentation.quickshift(Xi, kernel_size=1,max_dist=20, ratio=0.01)\n",
    "num_superpixels = np.unique(superpixels).shape[0]\n",
    "print(num_superpixels)\n",
    "\n",
    "skimage.io.imshow(skimage.segmentation.mark_boundaries(Xi/2+0.5, superpixels))\n",
    "\n",
    "print(\"End of block.\")"
   ]
  },
  {
   "cell_type": "code",
   "execution_count": 17,
   "metadata": {},
   "outputs": [
    {
     "name": "stdout",
     "output_type": "stream",
     "text": [
      "End of block.\n"
     ]
    }
   ],
   "source": [
    "num_perturb = 150\n",
    "perturbations = np.random.binomial(1, 0.5, size=(num_perturb, num_superpixels))\n",
    "perturbations[0] #Show example of perturbation\n",
    "print(\"End of block.\")"
   ]
  },
  {
   "cell_type": "code",
   "execution_count": 18,
   "metadata": {},
   "outputs": [
    {
     "name": "stdout",
     "output_type": "stream",
     "text": [
      "End of block.\n"
     ]
    },
    {
     "data": {
      "image/png": "[encoded data removed]",
      "text/plain": [
       "<Figure size 432x288 with 1 Axes>"
      ]
     },
     "metadata": {
      "needs_background": "light"
     },
     "output_type": "display_data"
    }
   ],
   "source": [
    "global perturbed_image2\n",
    "def perturb_image(img,perturbation,segments):\n",
    "    active_pixels = np.where(perturbation == 1)[0]\n",
    "    mask = np.zeros(segments.shape)\n",
    "    for active in active_pixels:\n",
    "        mask[segments == active] = 1 \n",
    "        global perturbed_image\n",
    "        perturbed_image = copy.deepcopy(img)\n",
    "        perturbed_image = perturbed_image*mask[:,:,np.newaxis]\n",
    "    return perturbed_image\n",
    "\n",
    "skimage.io.imshow(perturb_image(Xi/2+0.5,perturbations[0],superpixels))\n",
    "\n",
    "predictions = []\n",
    "for pert in perturbations:\n",
    "    perturbed_img = perturb_image(Xi/2+0.5,pert,superpixels)\n",
    "    pred = model.predict_classes(perturbed_img[np.newaxis,:,:,:])\n",
    "    predictions.append(pred)\n",
    "\n",
    "predictions = np.array(predictions)\n",
    "predictions.shape\n",
    "# print(predictions)\n",
    "print(\"End of block.\")"
   ]
  },
  {
   "cell_type": "code",
   "execution_count": 19,
   "metadata": {},
   "outputs": [
    {
     "name": "stdout",
     "output_type": "stream",
     "text": [
      "0.15484574527148343\n",
      "End of block.\n"
     ]
    }
   ],
   "source": [
    "original_image = np.ones(num_superpixels)[np.newaxis,:] #Perturbation with all superpixels enabled \n",
    "distances = sklearn.metrics.pairwise_distances(perturbations,original_image, metric='cosine').ravel()\n",
    "print(distances[0])\n",
    "distances.shape\n",
    "print(\"End of block.\")"
   ]
  },
  {
   "cell_type": "code",
   "execution_count": 20,
   "metadata": {},
   "outputs": [
    {
     "name": "stdout",
     "output_type": "stream",
     "text": [
      "End of block.\n"
     ]
    }
   ],
   "source": [
    "kernel_width = 0.25\n",
    "weights = np.sqrt(np.exp(-(distances**2)/kernel_width**2)) #Kernel function\n",
    "weights.shape\n",
    "print(\"End of block.\")"
   ]
  },
  {
   "cell_type": "code",
   "execution_count": 21,
   "metadata": {},
   "outputs": [
    {
     "name": "stdout",
     "output_type": "stream",
     "text": [
      "End of block.\n"
     ]
    }
   ],
   "source": [
    "class_to_explain = top_pred_classes\n",
    "simpler_model = LinearRegression()\n",
    "simpler_model.fit(X=perturbations, y=predictions[:,:], sample_weight=weights)\n",
    "coeff = simpler_model.coef_[0]\n",
    "coeff\n",
    "# np.argsort(coeff)\n",
    "print(\"End of block.\")"
   ]
  },
  {
   "cell_type": "code",
   "execution_count": 22,
   "metadata": {},
   "outputs": [
    {
     "name": "stdout",
     "output_type": "stream",
     "text": [
      "End of block.\n"
     ]
    }
   ],
   "source": [
    "num_top_features = 6\n",
    "top_features = np.argsort(coeff)[-num_top_features:] \n",
    "top_features\n",
    "print(\"End of block.\")"
   ]
  },
  {
   "cell_type": "code",
   "execution_count": 23,
   "metadata": {},
   "outputs": [
    {
     "name": "stdout",
     "output_type": "stream",
     "text": [
      "End of block.\n"
     ]
    },
    {
     "data": {
      "image/png": "[encoded data removed]",
      "text/plain": [
       "<Figure size 432x288 with 1 Axes>"
      ]
     },
     "metadata": {
      "needs_background": "light"
     },
     "output_type": "display_data"
    }
   ],
   "source": [
    "mask = np.zeros(num_superpixels) \n",
    "mask[top_features]= True #Activate top superpixels\n",
    "skimage.io.imshow(perturb_image(Xi/2+0.5,mask,superpixels) )\n",
    "print(\"End of block.\")"
   ]
  },
  {
   "cell_type": "code",
   "execution_count": 24,
   "metadata": {},
   "outputs": [
    {
     "name": "stdout",
     "output_type": "stream",
     "text": [
      "(30, 30, 1)\n",
      "(30, 30, 1)\n",
      "End of block.\n"
     ]
    },
    {
     "data": {
      "image/png": "[encoded data removed]",
      "text/plain": [
       "<Figure size 1440x432 with 4 Axes>"
      ]
     },
     "metadata": {
      "needs_background": "light"
     },
     "output_type": "display_data"
    }
   ],
   "source": [
    "X_test_wrongprint(Z0[:,:,np.newaxis].shape)\n",
    "im2 = perturb_image(Z0[:,:,np.newaxis],mask,superpixels)\n",
    "print(im2.shape)\n",
    "#skimage.io.imshow( )\n",
    "\n",
    "fig7, ax77 = pyplot.subplots(1,3, figsize = (20,6))\n",
    "\n",
    "for ii, c_ax in enumerate(ax77.flatten()):\n",
    "    # Comparing X_train for Label == 2 with X_Test_wronge for Label == 2\n",
    "    xxx, yyy= X_train3[:,:,:,ii], X_test_wrong3[:,:,:,ii]\n",
    "    xxx_2   = np.array([yy.flatten() for yy in xxx])\n",
    "    yyy_2   = np.array([yy.flatten() for yy in yyy]) \n",
    "    snpm    = spm1d.stats.nonparam.ttest2(xxx_2[:30], yyy_2[:30])\n",
    "    snpmi   = snpm.inference(0.05, two_tailed=True, iterations=1000) # Alpha is considered as 0.05\n",
    "    \n",
    "   # print(xxx_2.shape)\n",
    "    J,Q     = xxx_2.shape\n",
    "    z       = snpmi.z\n",
    "    zstar   = 0.5\n",
    "    z0      = np.zeros(Q)\n",
    "    z0      = z\n",
    "    Z0      = np.reshape(z0, (30,30))\n",
    "    Z0i     = Z0.copy()\n",
    "    Z0i[np.abs(Z0i)<zstar] = 0\n",
    "    ZZ      = np.hstack( [Z0, Z0i] )\n",
    "    \n",
    "    active_pixels2 = np.where(mask == 1)[0]\n",
    "    mask2 = np.zeros(superpixels.shape)\n",
    "    for active2 in active_pixels2:\n",
    "        mask2[superpixels == active2] = 1 \n",
    "        perturbed_image = copy.deepcopy(Z0i)\n",
    "        perturbed_image = perturbed_image*mask2\n",
    "    \n",
    "    c_ax.imshow(perturbed_image, 'jet') # Can be replaced with Z0i\n",
    "    #pyplot.colorbar(mappable=c_ax.images[0])\n",
    "    # c_ax.imshow(perturb_image(Xi/2+0.5,mask,superpixels))\n",
    "    c_ax.set_title('RGB: {} of Set {} vs. Set {}'.format(ii, 1,2))\n",
    "    c_ax.axis('off')\n",
    "    \n",
    "pyplot.colorbar(mappable=c_ax.images[0])\n",
    "\n",
    "print(\"End of block.\")"
   ]
  },
  {
   "cell_type": "code",
   "execution_count": null,
   "metadata": {},
   "outputs": [],
   "source": []
  }
 ],
 "metadata": {
  "kernelspec": {
   "display_name": "Python 3",
   "language": "python",
   "name": "python3"
  },
  "language_info": {
   "codemirror_mode": {
    "name": "ipython",
    "version": 3
   },
   "file_extension": ".py",
   "mimetype": "text/x-python",
   "name": "python",
   "nbconvert_exporter": "python",
   "pygments_lexer": "ipython3",
   "version": "3.8.5"
  }
 },
 "nbformat": 4,
 "nbformat_minor": 4
}
